{
 "cells": [
  {
   "cell_type": "code",
   "execution_count": 1,
   "id": "728b3e2a",
   "metadata": {
    "_cell_guid": "b1076dfc-b9ad-4769-8c92-a6c4dae69d19",
    "_uuid": "8f2839f25d086af736a60e9eeb907d3b93b6e0e5",
    "execution": {
     "iopub.execute_input": "2025-03-08T12:23:21.074014Z",
     "iopub.status.busy": "2025-03-08T12:23:21.073588Z",
     "iopub.status.idle": "2025-03-08T12:23:22.077468Z",
     "shell.execute_reply": "2025-03-08T12:23:22.075882Z"
    },
    "papermill": {
     "duration": 1.012149,
     "end_time": "2025-03-08T12:23:22.081119",
     "exception": false,
     "start_time": "2025-03-08T12:23:21.068970",
     "status": "completed"
    },
    "tags": []
   },
   "outputs": [
    {
     "name": "stdout",
     "output_type": "stream",
     "text": [
      "/kaggle/input/home-data-for-ml-course/sample_submission.csv\n",
      "/kaggle/input/home-data-for-ml-course/sample_submission.csv.gz\n",
      "/kaggle/input/home-data-for-ml-course/train.csv.gz\n",
      "/kaggle/input/home-data-for-ml-course/data_description.txt\n",
      "/kaggle/input/home-data-for-ml-course/test.csv.gz\n",
      "/kaggle/input/home-data-for-ml-course/train.csv\n",
      "/kaggle/input/home-data-for-ml-course/test.csv\n"
     ]
    }
   ],
   "source": [
    "# This Python 3 environment comes with many helpful analytics libraries installed\n",
    "# It is defined by the kaggle/python Docker image: https://github.com/kaggle/docker-python\n",
    "# For example, here's several helpful packages to load\n",
    "\n",
    "import numpy as np # linear algebra\n",
    "import pandas as pd # data processing, CSV file I/O (e.g. pd.read_csv)\n",
    "\n",
    "# Input data files are available in the read-only \"../input/\" directory\n",
    "# For example, running this (by clicking run or pressing Shift+Enter) will list all files under the input directory\n",
    "\n",
    "import os\n",
    "for dirname, _, filenames in os.walk('/kaggle/input'):\n",
    "    for filename in filenames:\n",
    "        print(os.path.join(dirname, filename))\n",
    "\n",
    "# You can write up to 20GB to the current directory (/kaggle/working/) that gets preserved as output when you create a version using \"Save & Run All\" \n",
    "# You can also write temporary files to /kaggle/temp/, but they won't be saved outside of the current session"
   ]
  },
  {
   "cell_type": "code",
   "execution_count": 2,
   "id": "66bee332",
   "metadata": {
    "execution": {
     "iopub.execute_input": "2025-03-08T12:23:22.092491Z",
     "iopub.status.busy": "2025-03-08T12:23:22.091939Z",
     "iopub.status.idle": "2025-03-08T12:23:22.202453Z",
     "shell.execute_reply": "2025-03-08T12:23:22.200948Z"
    },
    "papermill": {
     "duration": 0.117953,
     "end_time": "2025-03-08T12:23:22.204308",
     "exception": false,
     "start_time": "2025-03-08T12:23:22.086355",
     "status": "completed"
    },
    "tags": []
   },
   "outputs": [
    {
     "data": {
      "text/plain": [
       "False"
      ]
     },
     "execution_count": 2,
     "metadata": {},
     "output_type": "execute_result"
    }
   ],
   "source": [
    "df_train = pd.read_csv(\"/kaggle/input/home-data-for-ml-course/train.csv\", index_col=\"Id\")\n",
    "df_test = pd.read_csv(\"/kaggle/input/home-data-for-ml-course/test.csv\", index_col=\"Id\")\n",
    "df_train[\"SalePrice\"].isnull().any()\n"
   ]
  },
  {
   "cell_type": "code",
   "execution_count": 3,
   "id": "06ec27e0",
   "metadata": {
    "execution": {
     "iopub.execute_input": "2025-03-08T12:23:22.216383Z",
     "iopub.status.busy": "2025-03-08T12:23:22.216056Z",
     "iopub.status.idle": "2025-03-08T12:23:23.864254Z",
     "shell.execute_reply": "2025-03-08T12:23:23.863247Z"
    },
    "papermill": {
     "duration": 1.656875,
     "end_time": "2025-03-08T12:23:23.866257",
     "exception": false,
     "start_time": "2025-03-08T12:23:22.209382",
     "status": "completed"
    },
    "tags": []
   },
   "outputs": [],
   "source": [
    "from sklearn.model_selection import train_test_split\n",
    "\n",
    "\n",
    "df_train.dropna(axis=0, subset=['SalePrice'], inplace=True)\n",
    "y = df_train.SalePrice\n",
    "df_train.drop(['SalePrice'], axis=1, inplace=True)\n",
    "\n",
    "numerical_data = [i for i in df_train.columns if df_train[i].dtype in [\"int64\", \"float64\"]]\n",
    "categorical_data = [i for i in df_train.columns if df_train[i].dtype == \"object\" and df_train[i].nunique() < 10]\n",
    "\n",
    "X = df_train[numerical_data + categorical_data].copy()\n",
    "X_train, X_valid, y_train, y_valid = train_test_split(X,y,train_size=0.8,\n",
    "                                                      test_size = 0.2, random_state=0)\n",
    "X_test = df_test[numerical_data + categorical_data].copy()\n"
   ]
  },
  {
   "cell_type": "code",
   "execution_count": 4,
   "id": "399bae69",
   "metadata": {
    "execution": {
     "iopub.execute_input": "2025-03-08T12:23:23.873864Z",
     "iopub.status.busy": "2025-03-08T12:23:23.873289Z",
     "iopub.status.idle": "2025-03-08T12:23:23.914743Z",
     "shell.execute_reply": "2025-03-08T12:23:23.913261Z"
    },
    "papermill": {
     "duration": 0.047389,
     "end_time": "2025-03-08T12:23:23.916853",
     "exception": false,
     "start_time": "2025-03-08T12:23:23.869464",
     "status": "completed"
    },
    "tags": []
   },
   "outputs": [
    {
     "name": "stderr",
     "output_type": "stream",
     "text": [
      "/usr/local/lib/python3.10/dist-packages/pandas/io/formats/format.py:1458: RuntimeWarning: invalid value encountered in greater\n",
      "  has_large_values = (abs_vals > 1e6).any()\n",
      "/usr/local/lib/python3.10/dist-packages/pandas/io/formats/format.py:1459: RuntimeWarning: invalid value encountered in less\n",
      "  has_small_values = ((abs_vals < 10 ** (-self.digits)) & (abs_vals > 0)).any()\n",
      "/usr/local/lib/python3.10/dist-packages/pandas/io/formats/format.py:1459: RuntimeWarning: invalid value encountered in greater\n",
      "  has_small_values = ((abs_vals < 10 ** (-self.digits)) & (abs_vals > 0)).any()\n",
      "/usr/local/lib/python3.10/dist-packages/pandas/io/formats/format.py:1458: RuntimeWarning: invalid value encountered in greater\n",
      "  has_large_values = (abs_vals > 1e6).any()\n",
      "/usr/local/lib/python3.10/dist-packages/pandas/io/formats/format.py:1459: RuntimeWarning: invalid value encountered in less\n",
      "  has_small_values = ((abs_vals < 10 ** (-self.digits)) & (abs_vals > 0)).any()\n",
      "/usr/local/lib/python3.10/dist-packages/pandas/io/formats/format.py:1459: RuntimeWarning: invalid value encountered in greater\n",
      "  has_small_values = ((abs_vals < 10 ** (-self.digits)) & (abs_vals > 0)).any()\n"
     ]
    },
    {
     "data": {
      "text/html": [
       "<div>\n",
       "<style scoped>\n",
       "    .dataframe tbody tr th:only-of-type {\n",
       "        vertical-align: middle;\n",
       "    }\n",
       "\n",
       "    .dataframe tbody tr th {\n",
       "        vertical-align: top;\n",
       "    }\n",
       "\n",
       "    .dataframe thead th {\n",
       "        text-align: right;\n",
       "    }\n",
       "</style>\n",
       "<table border=\"1\" class=\"dataframe\">\n",
       "  <thead>\n",
       "    <tr style=\"text-align: right;\">\n",
       "      <th></th>\n",
       "      <th>MSSubClass</th>\n",
       "      <th>LotFrontage</th>\n",
       "      <th>LotArea</th>\n",
       "      <th>OverallQual</th>\n",
       "      <th>OverallCond</th>\n",
       "      <th>YearBuilt</th>\n",
       "      <th>YearRemodAdd</th>\n",
       "      <th>MasVnrArea</th>\n",
       "      <th>BsmtFinSF1</th>\n",
       "      <th>BsmtFinSF2</th>\n",
       "      <th>...</th>\n",
       "      <th>GarageType</th>\n",
       "      <th>GarageFinish</th>\n",
       "      <th>GarageQual</th>\n",
       "      <th>GarageCond</th>\n",
       "      <th>PavedDrive</th>\n",
       "      <th>PoolQC</th>\n",
       "      <th>Fence</th>\n",
       "      <th>MiscFeature</th>\n",
       "      <th>SaleType</th>\n",
       "      <th>SaleCondition</th>\n",
       "    </tr>\n",
       "    <tr>\n",
       "      <th>Id</th>\n",
       "      <th></th>\n",
       "      <th></th>\n",
       "      <th></th>\n",
       "      <th></th>\n",
       "      <th></th>\n",
       "      <th></th>\n",
       "      <th></th>\n",
       "      <th></th>\n",
       "      <th></th>\n",
       "      <th></th>\n",
       "      <th></th>\n",
       "      <th></th>\n",
       "      <th></th>\n",
       "      <th></th>\n",
       "      <th></th>\n",
       "      <th></th>\n",
       "      <th></th>\n",
       "      <th></th>\n",
       "      <th></th>\n",
       "      <th></th>\n",
       "      <th></th>\n",
       "    </tr>\n",
       "  </thead>\n",
       "  <tbody>\n",
       "    <tr>\n",
       "      <th>619</th>\n",
       "      <td>20</td>\n",
       "      <td>90.0</td>\n",
       "      <td>11694</td>\n",
       "      <td>9</td>\n",
       "      <td>5</td>\n",
       "      <td>2007</td>\n",
       "      <td>2007</td>\n",
       "      <td>452.0</td>\n",
       "      <td>48</td>\n",
       "      <td>0</td>\n",
       "      <td>...</td>\n",
       "      <td>Attchd</td>\n",
       "      <td>Unf</td>\n",
       "      <td>TA</td>\n",
       "      <td>TA</td>\n",
       "      <td>Y</td>\n",
       "      <td>NaN</td>\n",
       "      <td>NaN</td>\n",
       "      <td>NaN</td>\n",
       "      <td>New</td>\n",
       "      <td>Partial</td>\n",
       "    </tr>\n",
       "    <tr>\n",
       "      <th>871</th>\n",
       "      <td>20</td>\n",
       "      <td>60.0</td>\n",
       "      <td>6600</td>\n",
       "      <td>5</td>\n",
       "      <td>5</td>\n",
       "      <td>1962</td>\n",
       "      <td>1962</td>\n",
       "      <td>0.0</td>\n",
       "      <td>0</td>\n",
       "      <td>0</td>\n",
       "      <td>...</td>\n",
       "      <td>Detchd</td>\n",
       "      <td>Unf</td>\n",
       "      <td>TA</td>\n",
       "      <td>TA</td>\n",
       "      <td>Y</td>\n",
       "      <td>NaN</td>\n",
       "      <td>NaN</td>\n",
       "      <td>NaN</td>\n",
       "      <td>WD</td>\n",
       "      <td>Normal</td>\n",
       "    </tr>\n",
       "    <tr>\n",
       "      <th>93</th>\n",
       "      <td>30</td>\n",
       "      <td>80.0</td>\n",
       "      <td>13360</td>\n",
       "      <td>5</td>\n",
       "      <td>7</td>\n",
       "      <td>1921</td>\n",
       "      <td>2006</td>\n",
       "      <td>0.0</td>\n",
       "      <td>713</td>\n",
       "      <td>0</td>\n",
       "      <td>...</td>\n",
       "      <td>Detchd</td>\n",
       "      <td>Unf</td>\n",
       "      <td>TA</td>\n",
       "      <td>TA</td>\n",
       "      <td>Y</td>\n",
       "      <td>NaN</td>\n",
       "      <td>NaN</td>\n",
       "      <td>NaN</td>\n",
       "      <td>WD</td>\n",
       "      <td>Normal</td>\n",
       "    </tr>\n",
       "    <tr>\n",
       "      <th>818</th>\n",
       "      <td>20</td>\n",
       "      <td>NaN</td>\n",
       "      <td>13265</td>\n",
       "      <td>8</td>\n",
       "      <td>5</td>\n",
       "      <td>2002</td>\n",
       "      <td>2002</td>\n",
       "      <td>148.0</td>\n",
       "      <td>1218</td>\n",
       "      <td>0</td>\n",
       "      <td>...</td>\n",
       "      <td>Attchd</td>\n",
       "      <td>RFn</td>\n",
       "      <td>TA</td>\n",
       "      <td>TA</td>\n",
       "      <td>Y</td>\n",
       "      <td>NaN</td>\n",
       "      <td>NaN</td>\n",
       "      <td>NaN</td>\n",
       "      <td>WD</td>\n",
       "      <td>Normal</td>\n",
       "    </tr>\n",
       "    <tr>\n",
       "      <th>303</th>\n",
       "      <td>20</td>\n",
       "      <td>118.0</td>\n",
       "      <td>13704</td>\n",
       "      <td>7</td>\n",
       "      <td>5</td>\n",
       "      <td>2001</td>\n",
       "      <td>2002</td>\n",
       "      <td>150.0</td>\n",
       "      <td>0</td>\n",
       "      <td>0</td>\n",
       "      <td>...</td>\n",
       "      <td>Attchd</td>\n",
       "      <td>RFn</td>\n",
       "      <td>TA</td>\n",
       "      <td>TA</td>\n",
       "      <td>Y</td>\n",
       "      <td>NaN</td>\n",
       "      <td>NaN</td>\n",
       "      <td>NaN</td>\n",
       "      <td>WD</td>\n",
       "      <td>Normal</td>\n",
       "    </tr>\n",
       "  </tbody>\n",
       "</table>\n",
       "<p>5 rows × 76 columns</p>\n",
       "</div>"
      ],
      "text/plain": [
       "     MSSubClass  LotFrontage  LotArea  OverallQual  OverallCond  YearBuilt  \\\n",
       "Id                                                                           \n",
       "619          20         90.0    11694            9            5       2007   \n",
       "871          20         60.0     6600            5            5       1962   \n",
       "93           30         80.0    13360            5            7       1921   \n",
       "818          20          NaN    13265            8            5       2002   \n",
       "303          20        118.0    13704            7            5       2001   \n",
       "\n",
       "     YearRemodAdd  MasVnrArea  BsmtFinSF1  BsmtFinSF2  ...  GarageType  \\\n",
       "Id                                                     ...               \n",
       "619          2007       452.0          48           0  ...      Attchd   \n",
       "871          1962         0.0           0           0  ...      Detchd   \n",
       "93           2006         0.0         713           0  ...      Detchd   \n",
       "818          2002       148.0        1218           0  ...      Attchd   \n",
       "303          2002       150.0           0           0  ...      Attchd   \n",
       "\n",
       "     GarageFinish  GarageQual  GarageCond  PavedDrive  PoolQC  Fence  \\\n",
       "Id                                                                     \n",
       "619           Unf          TA          TA           Y     NaN    NaN   \n",
       "871           Unf          TA          TA           Y     NaN    NaN   \n",
       "93            Unf          TA          TA           Y     NaN    NaN   \n",
       "818           RFn          TA          TA           Y     NaN    NaN   \n",
       "303           RFn          TA          TA           Y     NaN    NaN   \n",
       "\n",
       "     MiscFeature  SaleType  SaleCondition  \n",
       "Id                                         \n",
       "619          NaN       New        Partial  \n",
       "871          NaN        WD         Normal  \n",
       "93           NaN        WD         Normal  \n",
       "818          NaN        WD         Normal  \n",
       "303          NaN        WD         Normal  \n",
       "\n",
       "[5 rows x 76 columns]"
      ]
     },
     "execution_count": 4,
     "metadata": {},
     "output_type": "execute_result"
    }
   ],
   "source": [
    "X_train.head()"
   ]
  },
  {
   "cell_type": "code",
   "execution_count": 5,
   "id": "46493a8c",
   "metadata": {
    "execution": {
     "iopub.execute_input": "2025-03-08T12:23:23.925268Z",
     "iopub.status.busy": "2025-03-08T12:23:23.924931Z",
     "iopub.status.idle": "2025-03-08T12:23:24.688043Z",
     "shell.execute_reply": "2025-03-08T12:23:24.687025Z"
    },
    "papermill": {
     "duration": 0.769427,
     "end_time": "2025-03-08T12:23:24.689914",
     "exception": false,
     "start_time": "2025-03-08T12:23:23.920487",
     "status": "completed"
    },
    "tags": []
   },
   "outputs": [],
   "source": [
    "from sklearn.impute import SimpleImputer\n",
    "from sklearn.pipeline import Pipeline\n",
    "from sklearn.compose import ColumnTransformer\n",
    "from sklearn.preprocessing import OneHotEncoder\n",
    "from sklearn.metrics import mean_absolute_error\n",
    "from sklearn.ensemble import RandomForestRegressor\n",
    "from xgboost import XGBRegressor\n",
    "\n",
    "numerical_transformer = SimpleImputer(strategy=\"constant\")\n",
    "categorical_transformer = Pipeline(steps=[(\"impute\", SimpleImputer(strategy=\"constant\")),\n",
    "                                         (\"onehot\", OneHotEncoder(handle_unknown=\"ignore\"))])\n",
    "\n",
    "preprocessor = ColumnTransformer( transformers=[(\"num\",numerical_transformer, numerical_data),\n",
    "                                               (\"cat\", categorical_transformer, categorical_data )])\n",
    "\n",
    "# model = RandomForestRegressor(n_estimators=300, random_state=0)\n",
    "model  = XGBRegressor(n_estimators=1000, random_state=0, learning_rate=0.05)\n",
    "my_pipeline = Pipeline(steps=[(\"preprocessor\", preprocessor),\n",
    "                             (\"model\", model)\n",
    "                             ])\n",
    "\n"
   ]
  },
  {
   "cell_type": "code",
   "execution_count": 6,
   "id": "4f1be380",
   "metadata": {
    "execution": {
     "iopub.execute_input": "2025-03-08T12:23:24.698622Z",
     "iopub.status.busy": "2025-03-08T12:23:24.698204Z",
     "iopub.status.idle": "2025-03-08T12:23:27.950251Z",
     "shell.execute_reply": "2025-03-08T12:23:27.949295Z"
    },
    "papermill": {
     "duration": 3.259317,
     "end_time": "2025-03-08T12:23:27.952807",
     "exception": false,
     "start_time": "2025-03-08T12:23:24.693490",
     "status": "completed"
    },
    "tags": []
   },
   "outputs": [
    {
     "data": {
      "text/plain": [
       "545.2228970462329"
      ]
     },
     "execution_count": 6,
     "metadata": {},
     "output_type": "execute_result"
    }
   ],
   "source": [
    "my_pipeline.fit(X, y)\n",
    "\n",
    "preds = my_pipeline.predict(X_valid)\n",
    "error = mean_absolute_error(preds, y_valid)\n",
    "error"
   ]
  },
  {
   "cell_type": "code",
   "execution_count": 7,
   "id": "fcfa05de",
   "metadata": {
    "execution": {
     "iopub.execute_input": "2025-03-08T12:23:27.962997Z",
     "iopub.status.busy": "2025-03-08T12:23:27.962640Z",
     "iopub.status.idle": "2025-03-08T12:23:28.025188Z",
     "shell.execute_reply": "2025-03-08T12:23:28.024217Z"
    },
    "papermill": {
     "duration": 0.069874,
     "end_time": "2025-03-08T12:23:28.027167",
     "exception": false,
     "start_time": "2025-03-08T12:23:27.957293",
     "status": "completed"
    },
    "tags": []
   },
   "outputs": [
    {
     "data": {
      "text/html": [
       "<div>\n",
       "<style scoped>\n",
       "    .dataframe tbody tr th:only-of-type {\n",
       "        vertical-align: middle;\n",
       "    }\n",
       "\n",
       "    .dataframe tbody tr th {\n",
       "        vertical-align: top;\n",
       "    }\n",
       "\n",
       "    .dataframe thead th {\n",
       "        text-align: right;\n",
       "    }\n",
       "</style>\n",
       "<table border=\"1\" class=\"dataframe\">\n",
       "  <thead>\n",
       "    <tr style=\"text-align: right;\">\n",
       "      <th></th>\n",
       "      <th>Id</th>\n",
       "      <th>SalePrice</th>\n",
       "    </tr>\n",
       "  </thead>\n",
       "  <tbody>\n",
       "    <tr>\n",
       "      <th>0</th>\n",
       "      <td>1461</td>\n",
       "      <td>128892.164062</td>\n",
       "    </tr>\n",
       "    <tr>\n",
       "      <th>1</th>\n",
       "      <td>1462</td>\n",
       "      <td>159863.375000</td>\n",
       "    </tr>\n",
       "    <tr>\n",
       "      <th>2</th>\n",
       "      <td>1463</td>\n",
       "      <td>185356.437500</td>\n",
       "    </tr>\n",
       "    <tr>\n",
       "      <th>3</th>\n",
       "      <td>1464</td>\n",
       "      <td>191248.390625</td>\n",
       "    </tr>\n",
       "    <tr>\n",
       "      <th>4</th>\n",
       "      <td>1465</td>\n",
       "      <td>202431.265625</td>\n",
       "    </tr>\n",
       "    <tr>\n",
       "      <th>...</th>\n",
       "      <td>...</td>\n",
       "      <td>...</td>\n",
       "    </tr>\n",
       "    <tr>\n",
       "      <th>1454</th>\n",
       "      <td>2915</td>\n",
       "      <td>78746.968750</td>\n",
       "    </tr>\n",
       "    <tr>\n",
       "      <th>1455</th>\n",
       "      <td>2916</td>\n",
       "      <td>76918.664062</td>\n",
       "    </tr>\n",
       "    <tr>\n",
       "      <th>1456</th>\n",
       "      <td>2917</td>\n",
       "      <td>164407.375000</td>\n",
       "    </tr>\n",
       "    <tr>\n",
       "      <th>1457</th>\n",
       "      <td>2918</td>\n",
       "      <td>115062.398438</td>\n",
       "    </tr>\n",
       "    <tr>\n",
       "      <th>1458</th>\n",
       "      <td>2919</td>\n",
       "      <td>211764.265625</td>\n",
       "    </tr>\n",
       "  </tbody>\n",
       "</table>\n",
       "<p>1459 rows × 2 columns</p>\n",
       "</div>"
      ],
      "text/plain": [
       "        Id      SalePrice\n",
       "0     1461  128892.164062\n",
       "1     1462  159863.375000\n",
       "2     1463  185356.437500\n",
       "3     1464  191248.390625\n",
       "4     1465  202431.265625\n",
       "...    ...            ...\n",
       "1454  2915   78746.968750\n",
       "1455  2916   76918.664062\n",
       "1456  2917  164407.375000\n",
       "1457  2918  115062.398438\n",
       "1458  2919  211764.265625\n",
       "\n",
       "[1459 rows x 2 columns]"
      ]
     },
     "execution_count": 7,
     "metadata": {},
     "output_type": "execute_result"
    }
   ],
   "source": [
    "preds = my_pipeline.predict(X_test)\n",
    "\n",
    "output = pd.DataFrame({\"Id\":X_test.index, \"SalePrice\":preds})\n",
    "output"
   ]
  },
  {
   "cell_type": "code",
   "execution_count": 8,
   "id": "27135b2c",
   "metadata": {
    "execution": {
     "iopub.execute_input": "2025-03-08T12:23:28.036874Z",
     "iopub.status.busy": "2025-03-08T12:23:28.036416Z",
     "iopub.status.idle": "2025-03-08T12:23:28.048727Z",
     "shell.execute_reply": "2025-03-08T12:23:28.047742Z"
    },
    "papermill": {
     "duration": 0.018853,
     "end_time": "2025-03-08T12:23:28.050782",
     "exception": false,
     "start_time": "2025-03-08T12:23:28.031929",
     "status": "completed"
    },
    "tags": []
   },
   "outputs": [],
   "source": [
    "output.to_csv(\"submission.csv\", index=False)"
   ]
  },
  {
   "cell_type": "code",
   "execution_count": null,
   "id": "20440d5e",
   "metadata": {
    "papermill": {
     "duration": 0.003539,
     "end_time": "2025-03-08T12:23:28.058186",
     "exception": false,
     "start_time": "2025-03-08T12:23:28.054647",
     "status": "completed"
    },
    "tags": []
   },
   "outputs": [],
   "source": []
  }
 ],
 "metadata": {
  "kaggle": {
   "accelerator": "none",
   "dataSources": [
    {
     "databundleVersionId": 111096,
     "sourceId": 10211,
     "sourceType": "competition"
    }
   ],
   "dockerImageVersionId": 30918,
   "isGpuEnabled": false,
   "isInternetEnabled": true,
   "language": "python",
   "sourceType": "notebook"
  },
  "kernelspec": {
   "display_name": "Python 3",
   "language": "python",
   "name": "python3"
  },
  "language_info": {
   "codemirror_mode": {
    "name": "ipython",
    "version": 3
   },
   "file_extension": ".py",
   "mimetype": "text/x-python",
   "name": "python",
   "nbconvert_exporter": "python",
   "pygments_lexer": "ipython3",
   "version": "3.10.12"
  },
  "papermill": {
   "default_parameters": {},
   "duration": 10.744201,
   "end_time": "2025-03-08T12:23:28.883880",
   "environment_variables": {},
   "exception": null,
   "input_path": "__notebook__.ipynb",
   "output_path": "__notebook__.ipynb",
   "parameters": {},
   "start_time": "2025-03-08T12:23:18.139679",
   "version": "2.6.0"
  }
 },
 "nbformat": 4,
 "nbformat_minor": 5
}
