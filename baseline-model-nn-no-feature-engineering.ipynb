{
 "cells": [
  {
   "cell_type": "code",
   "execution_count": 1,
   "id": "19291656",
   "metadata": {
    "_cell_guid": "b1076dfc-b9ad-4769-8c92-a6c4dae69d19",
    "_uuid": "8f2839f25d086af736a60e9eeb907d3b93b6e0e5",
    "execution": {
     "iopub.execute_input": "2025-04-03T16:35:01.529204Z",
     "iopub.status.busy": "2025-04-03T16:35:01.528768Z",
     "iopub.status.idle": "2025-04-03T16:35:02.518528Z",
     "shell.execute_reply": "2025-04-03T16:35:02.517205Z"
    },
    "papermill": {
     "duration": 0.998166,
     "end_time": "2025-04-03T16:35:02.520826",
     "exception": false,
     "start_time": "2025-04-03T16:35:01.522660",
     "status": "completed"
    },
    "tags": []
   },
   "outputs": [
    {
     "name": "stdout",
     "output_type": "stream",
     "text": [
      "/kaggle/input/playground-series-s5e4/sample_submission.csv\n",
      "/kaggle/input/playground-series-s5e4/train.csv\n",
      "/kaggle/input/playground-series-s5e4/test.csv\n"
     ]
    }
   ],
   "source": [
    "import numpy as np \n",
    "import pandas as pd \n",
    "import warnings\n",
    "warnings.filterwarnings(\"ignore\")\n",
    "\n",
    "import os\n",
    "for dirname, _, filenames in os.walk('/kaggle/input'):\n",
    "    for filename in filenames:\n",
    "        print(os.path.join(dirname, filename))"
   ]
  },
  {
   "cell_type": "code",
   "execution_count": 2,
   "id": "12dbb42d",
   "metadata": {
    "execution": {
     "iopub.execute_input": "2025-04-03T16:35:02.532246Z",
     "iopub.status.busy": "2025-04-03T16:35:02.531734Z",
     "iopub.status.idle": "2025-04-03T16:35:02.686668Z",
     "shell.execute_reply": "2025-04-03T16:35:02.685143Z"
    },
    "papermill": {
     "duration": 0.163431,
     "end_time": "2025-04-03T16:35:02.689407",
     "exception": false,
     "start_time": "2025-04-03T16:35:02.525976",
     "status": "completed"
    },
    "tags": []
   },
   "outputs": [
    {
     "data": {
      "text/html": [
       "<div>\n",
       "<style scoped>\n",
       "    .dataframe tbody tr th:only-of-type {\n",
       "        vertical-align: middle;\n",
       "    }\n",
       "\n",
       "    .dataframe tbody tr th {\n",
       "        vertical-align: top;\n",
       "    }\n",
       "\n",
       "    .dataframe thead th {\n",
       "        text-align: right;\n",
       "    }\n",
       "</style>\n",
       "<table border=\"1\" class=\"dataframe\">\n",
       "  <thead>\n",
       "    <tr style=\"text-align: right;\">\n",
       "      <th></th>\n",
       "      <th>Listening_Time_minutes</th>\n",
       "    </tr>\n",
       "    <tr>\n",
       "      <th>id</th>\n",
       "      <th></th>\n",
       "    </tr>\n",
       "  </thead>\n",
       "  <tbody>\n",
       "    <tr>\n",
       "      <th>750000</th>\n",
       "      <td>45.437</td>\n",
       "    </tr>\n",
       "    <tr>\n",
       "      <th>750001</th>\n",
       "      <td>45.437</td>\n",
       "    </tr>\n",
       "    <tr>\n",
       "      <th>750002</th>\n",
       "      <td>45.437</td>\n",
       "    </tr>\n",
       "    <tr>\n",
       "      <th>750003</th>\n",
       "      <td>45.437</td>\n",
       "    </tr>\n",
       "    <tr>\n",
       "      <th>750004</th>\n",
       "      <td>45.437</td>\n",
       "    </tr>\n",
       "    <tr>\n",
       "      <th>...</th>\n",
       "      <td>...</td>\n",
       "    </tr>\n",
       "    <tr>\n",
       "      <th>999995</th>\n",
       "      <td>45.437</td>\n",
       "    </tr>\n",
       "    <tr>\n",
       "      <th>999996</th>\n",
       "      <td>45.437</td>\n",
       "    </tr>\n",
       "    <tr>\n",
       "      <th>999997</th>\n",
       "      <td>45.437</td>\n",
       "    </tr>\n",
       "    <tr>\n",
       "      <th>999998</th>\n",
       "      <td>45.437</td>\n",
       "    </tr>\n",
       "    <tr>\n",
       "      <th>999999</th>\n",
       "      <td>45.437</td>\n",
       "    </tr>\n",
       "  </tbody>\n",
       "</table>\n",
       "<p>250000 rows × 1 columns</p>\n",
       "</div>"
      ],
      "text/plain": [
       "        Listening_Time_minutes\n",
       "id                            \n",
       "750000                  45.437\n",
       "750001                  45.437\n",
       "750002                  45.437\n",
       "750003                  45.437\n",
       "750004                  45.437\n",
       "...                        ...\n",
       "999995                  45.437\n",
       "999996                  45.437\n",
       "999997                  45.437\n",
       "999998                  45.437\n",
       "999999                  45.437\n",
       "\n",
       "[250000 rows x 1 columns]"
      ]
     },
     "execution_count": 2,
     "metadata": {},
     "output_type": "execute_result"
    }
   ],
   "source": [
    "_ = pd.read_csv(\"/kaggle/input/playground-series-s5e4/sample_submission.csv\", index_col=\"id\")\n",
    "_"
   ]
  },
  {
   "cell_type": "code",
   "execution_count": 3,
   "id": "61d3bb5f",
   "metadata": {
    "execution": {
     "iopub.execute_input": "2025-04-03T16:35:02.699932Z",
     "iopub.status.busy": "2025-04-03T16:35:02.699494Z",
     "iopub.status.idle": "2025-04-03T16:35:05.431342Z",
     "shell.execute_reply": "2025-04-03T16:35:05.430227Z"
    },
    "papermill": {
     "duration": 2.739411,
     "end_time": "2025-04-03T16:35:05.433443",
     "exception": false,
     "start_time": "2025-04-03T16:35:02.694032",
     "status": "completed"
    },
    "tags": []
   },
   "outputs": [
    {
     "data": {
      "text/html": [
       "<div>\n",
       "<style scoped>\n",
       "    .dataframe tbody tr th:only-of-type {\n",
       "        vertical-align: middle;\n",
       "    }\n",
       "\n",
       "    .dataframe tbody tr th {\n",
       "        vertical-align: top;\n",
       "    }\n",
       "\n",
       "    .dataframe thead th {\n",
       "        text-align: right;\n",
       "    }\n",
       "</style>\n",
       "<table border=\"1\" class=\"dataframe\">\n",
       "  <thead>\n",
       "    <tr style=\"text-align: right;\">\n",
       "      <th></th>\n",
       "      <th>Podcast_Name</th>\n",
       "      <th>Episode_Title</th>\n",
       "      <th>Episode_Length_minutes</th>\n",
       "      <th>Genre</th>\n",
       "      <th>Host_Popularity_percentage</th>\n",
       "      <th>Publication_Day</th>\n",
       "      <th>Publication_Time</th>\n",
       "      <th>Guest_Popularity_percentage</th>\n",
       "      <th>Number_of_Ads</th>\n",
       "      <th>Episode_Sentiment</th>\n",
       "      <th>Listening_Time_minutes</th>\n",
       "    </tr>\n",
       "    <tr>\n",
       "      <th>id</th>\n",
       "      <th></th>\n",
       "      <th></th>\n",
       "      <th></th>\n",
       "      <th></th>\n",
       "      <th></th>\n",
       "      <th></th>\n",
       "      <th></th>\n",
       "      <th></th>\n",
       "      <th></th>\n",
       "      <th></th>\n",
       "      <th></th>\n",
       "    </tr>\n",
       "  </thead>\n",
       "  <tbody>\n",
       "    <tr>\n",
       "      <th>0</th>\n",
       "      <td>Mystery Matters</td>\n",
       "      <td>Episode 98</td>\n",
       "      <td>NaN</td>\n",
       "      <td>True Crime</td>\n",
       "      <td>74.81</td>\n",
       "      <td>Thursday</td>\n",
       "      <td>Night</td>\n",
       "      <td>NaN</td>\n",
       "      <td>0.0</td>\n",
       "      <td>Positive</td>\n",
       "      <td>31.41998</td>\n",
       "    </tr>\n",
       "    <tr>\n",
       "      <th>1</th>\n",
       "      <td>Joke Junction</td>\n",
       "      <td>Episode 26</td>\n",
       "      <td>119.80</td>\n",
       "      <td>Comedy</td>\n",
       "      <td>66.95</td>\n",
       "      <td>Saturday</td>\n",
       "      <td>Afternoon</td>\n",
       "      <td>75.95</td>\n",
       "      <td>2.0</td>\n",
       "      <td>Negative</td>\n",
       "      <td>88.01241</td>\n",
       "    </tr>\n",
       "    <tr>\n",
       "      <th>2</th>\n",
       "      <td>Study Sessions</td>\n",
       "      <td>Episode 16</td>\n",
       "      <td>73.90</td>\n",
       "      <td>Education</td>\n",
       "      <td>69.97</td>\n",
       "      <td>Tuesday</td>\n",
       "      <td>Evening</td>\n",
       "      <td>8.97</td>\n",
       "      <td>0.0</td>\n",
       "      <td>Negative</td>\n",
       "      <td>44.92531</td>\n",
       "    </tr>\n",
       "    <tr>\n",
       "      <th>3</th>\n",
       "      <td>Digital Digest</td>\n",
       "      <td>Episode 45</td>\n",
       "      <td>67.17</td>\n",
       "      <td>Technology</td>\n",
       "      <td>57.22</td>\n",
       "      <td>Monday</td>\n",
       "      <td>Morning</td>\n",
       "      <td>78.70</td>\n",
       "      <td>2.0</td>\n",
       "      <td>Positive</td>\n",
       "      <td>46.27824</td>\n",
       "    </tr>\n",
       "    <tr>\n",
       "      <th>4</th>\n",
       "      <td>Mind &amp; Body</td>\n",
       "      <td>Episode 86</td>\n",
       "      <td>110.51</td>\n",
       "      <td>Health</td>\n",
       "      <td>80.07</td>\n",
       "      <td>Monday</td>\n",
       "      <td>Afternoon</td>\n",
       "      <td>58.68</td>\n",
       "      <td>3.0</td>\n",
       "      <td>Neutral</td>\n",
       "      <td>75.61031</td>\n",
       "    </tr>\n",
       "  </tbody>\n",
       "</table>\n",
       "</div>"
      ],
      "text/plain": [
       "       Podcast_Name Episode_Title  Episode_Length_minutes       Genre  \\\n",
       "id                                                                      \n",
       "0   Mystery Matters    Episode 98                     NaN  True Crime   \n",
       "1     Joke Junction    Episode 26                  119.80      Comedy   \n",
       "2    Study Sessions    Episode 16                   73.90   Education   \n",
       "3    Digital Digest    Episode 45                   67.17  Technology   \n",
       "4       Mind & Body    Episode 86                  110.51      Health   \n",
       "\n",
       "    Host_Popularity_percentage Publication_Day Publication_Time  \\\n",
       "id                                                                \n",
       "0                        74.81        Thursday            Night   \n",
       "1                        66.95        Saturday        Afternoon   \n",
       "2                        69.97         Tuesday          Evening   \n",
       "3                        57.22          Monday          Morning   \n",
       "4                        80.07          Monday        Afternoon   \n",
       "\n",
       "    Guest_Popularity_percentage  Number_of_Ads Episode_Sentiment  \\\n",
       "id                                                                 \n",
       "0                           NaN            0.0          Positive   \n",
       "1                         75.95            2.0          Negative   \n",
       "2                          8.97            0.0          Negative   \n",
       "3                         78.70            2.0          Positive   \n",
       "4                         58.68            3.0           Neutral   \n",
       "\n",
       "    Listening_Time_minutes  \n",
       "id                          \n",
       "0                 31.41998  \n",
       "1                 88.01241  \n",
       "2                 44.92531  \n",
       "3                 46.27824  \n",
       "4                 75.61031  "
      ]
     },
     "execution_count": 3,
     "metadata": {},
     "output_type": "execute_result"
    }
   ],
   "source": [
    "train_df = pd.read_csv(\"/kaggle/input/playground-series-s5e4/train.csv\", index_col=\"id\")\n",
    "test_df = pd.read_csv(\"/kaggle/input/playground-series-s5e4/test.csv\", index_col=\"id\")\n",
    "train_df.head()"
   ]
  },
  {
   "cell_type": "code",
   "execution_count": 4,
   "id": "1dffb3ed",
   "metadata": {
    "execution": {
     "iopub.execute_input": "2025-04-03T16:35:05.445409Z",
     "iopub.status.busy": "2025-04-03T16:35:05.444837Z",
     "iopub.status.idle": "2025-04-03T16:35:05.698071Z",
     "shell.execute_reply": "2025-04-03T16:35:05.696708Z"
    },
    "papermill": {
     "duration": 0.261422,
     "end_time": "2025-04-03T16:35:05.700283",
     "exception": false,
     "start_time": "2025-04-03T16:35:05.438861",
     "status": "completed"
    },
    "tags": []
   },
   "outputs": [
    {
     "name": "stdout",
     "output_type": "stream",
     "text": [
      "<class 'pandas.core.frame.DataFrame'>\n",
      "Index: 750000 entries, 0 to 749999\n",
      "Data columns (total 11 columns):\n",
      " #   Column                       Non-Null Count   Dtype  \n",
      "---  ------                       --------------   -----  \n",
      " 0   Podcast_Name                 750000 non-null  object \n",
      " 1   Episode_Title                750000 non-null  object \n",
      " 2   Episode_Length_minutes       662907 non-null  float64\n",
      " 3   Genre                        750000 non-null  object \n",
      " 4   Host_Popularity_percentage   750000 non-null  float64\n",
      " 5   Publication_Day              750000 non-null  object \n",
      " 6   Publication_Time             750000 non-null  object \n",
      " 7   Guest_Popularity_percentage  603970 non-null  float64\n",
      " 8   Number_of_Ads                749999 non-null  float64\n",
      " 9   Episode_Sentiment            750000 non-null  object \n",
      " 10  Listening_Time_minutes       750000 non-null  float64\n",
      "dtypes: float64(5), object(6)\n",
      "memory usage: 68.7+ MB\n"
     ]
    }
   ],
   "source": [
    "train_df.info()"
   ]
  },
  {
   "cell_type": "code",
   "execution_count": 5,
   "id": "f0bf0af9",
   "metadata": {
    "execution": {
     "iopub.execute_input": "2025-04-03T16:35:05.711529Z",
     "iopub.status.busy": "2025-04-03T16:35:05.711123Z",
     "iopub.status.idle": "2025-04-03T16:35:05.785644Z",
     "shell.execute_reply": "2025-04-03T16:35:05.784364Z"
    },
    "papermill": {
     "duration": 0.082035,
     "end_time": "2025-04-03T16:35:05.787549",
     "exception": false,
     "start_time": "2025-04-03T16:35:05.705514",
     "status": "completed"
    },
    "tags": []
   },
   "outputs": [
    {
     "data": {
      "text/html": [
       "<div>\n",
       "<style scoped>\n",
       "    .dataframe tbody tr th:only-of-type {\n",
       "        vertical-align: middle;\n",
       "    }\n",
       "\n",
       "    .dataframe tbody tr th {\n",
       "        vertical-align: top;\n",
       "    }\n",
       "\n",
       "    .dataframe thead th {\n",
       "        text-align: right;\n",
       "    }\n",
       "</style>\n",
       "<table border=\"1\" class=\"dataframe\">\n",
       "  <thead>\n",
       "    <tr style=\"text-align: right;\">\n",
       "      <th></th>\n",
       "      <th>Episode_Length_minutes</th>\n",
       "      <th>Host_Popularity_percentage</th>\n",
       "      <th>Guest_Popularity_percentage</th>\n",
       "      <th>Number_of_Ads</th>\n",
       "    </tr>\n",
       "  </thead>\n",
       "  <tbody>\n",
       "    <tr>\n",
       "      <th>count</th>\n",
       "      <td>2.212640e+05</td>\n",
       "      <td>250000.000000</td>\n",
       "      <td>201168.000000</td>\n",
       "      <td>250000.000000</td>\n",
       "    </tr>\n",
       "    <tr>\n",
       "      <th>mean</th>\n",
       "      <td>4.192987e+02</td>\n",
       "      <td>59.716491</td>\n",
       "      <td>52.192796</td>\n",
       "      <td>1.355852</td>\n",
       "    </tr>\n",
       "    <tr>\n",
       "      <th>std</th>\n",
       "      <td>1.668545e+05</td>\n",
       "      <td>22.880028</td>\n",
       "      <td>28.445034</td>\n",
       "      <td>4.274399</td>\n",
       "    </tr>\n",
       "    <tr>\n",
       "      <th>min</th>\n",
       "      <td>2.470000e+00</td>\n",
       "      <td>2.490000</td>\n",
       "      <td>0.000000</td>\n",
       "      <td>0.000000</td>\n",
       "    </tr>\n",
       "    <tr>\n",
       "      <th>25%</th>\n",
       "      <td>3.578000e+01</td>\n",
       "      <td>39.250000</td>\n",
       "      <td>28.320000</td>\n",
       "      <td>0.000000</td>\n",
       "    </tr>\n",
       "    <tr>\n",
       "      <th>50%</th>\n",
       "      <td>6.397000e+01</td>\n",
       "      <td>59.900000</td>\n",
       "      <td>53.360000</td>\n",
       "      <td>1.000000</td>\n",
       "    </tr>\n",
       "    <tr>\n",
       "      <th>75%</th>\n",
       "      <td>9.415000e+01</td>\n",
       "      <td>79.390000</td>\n",
       "      <td>76.560000</td>\n",
       "      <td>2.000000</td>\n",
       "    </tr>\n",
       "    <tr>\n",
       "      <th>max</th>\n",
       "      <td>7.848626e+07</td>\n",
       "      <td>117.760000</td>\n",
       "      <td>116.820000</td>\n",
       "      <td>2063.000000</td>\n",
       "    </tr>\n",
       "  </tbody>\n",
       "</table>\n",
       "</div>"
      ],
      "text/plain": [
       "       Episode_Length_minutes  Host_Popularity_percentage  \\\n",
       "count            2.212640e+05               250000.000000   \n",
       "mean             4.192987e+02                   59.716491   \n",
       "std              1.668545e+05                   22.880028   \n",
       "min              2.470000e+00                    2.490000   \n",
       "25%              3.578000e+01                   39.250000   \n",
       "50%              6.397000e+01                   59.900000   \n",
       "75%              9.415000e+01                   79.390000   \n",
       "max              7.848626e+07                  117.760000   \n",
       "\n",
       "       Guest_Popularity_percentage  Number_of_Ads  \n",
       "count                201168.000000  250000.000000  \n",
       "mean                     52.192796       1.355852  \n",
       "std                      28.445034       4.274399  \n",
       "min                       0.000000       0.000000  \n",
       "25%                      28.320000       0.000000  \n",
       "50%                      53.360000       1.000000  \n",
       "75%                      76.560000       2.000000  \n",
       "max                     116.820000    2063.000000  "
      ]
     },
     "execution_count": 5,
     "metadata": {},
     "output_type": "execute_result"
    }
   ],
   "source": [
    "test_df.describe()"
   ]
  },
  {
   "cell_type": "code",
   "execution_count": 6,
   "id": "9ef36732",
   "metadata": {
    "execution": {
     "iopub.execute_input": "2025-04-03T16:35:05.799741Z",
     "iopub.status.busy": "2025-04-03T16:35:05.799351Z",
     "iopub.status.idle": "2025-04-03T16:35:05.804770Z",
     "shell.execute_reply": "2025-04-03T16:35:05.803414Z"
    },
    "papermill": {
     "duration": 0.013396,
     "end_time": "2025-04-03T16:35:05.806526",
     "exception": false,
     "start_time": "2025-04-03T16:35:05.793130",
     "status": "completed"
    },
    "tags": []
   },
   "outputs": [
    {
     "name": "stdout",
     "output_type": "stream",
     "text": [
      "(750000, 11)\n",
      "(250000, 10)\n"
     ]
    }
   ],
   "source": [
    "print(train_df.shape)\n",
    "print(test_df.shape)"
   ]
  },
  {
   "cell_type": "code",
   "execution_count": 7,
   "id": "c702328a",
   "metadata": {
    "execution": {
     "iopub.execute_input": "2025-04-03T16:35:05.817920Z",
     "iopub.status.busy": "2025-04-03T16:35:05.817504Z",
     "iopub.status.idle": "2025-04-03T16:35:06.071981Z",
     "shell.execute_reply": "2025-04-03T16:35:06.070729Z"
    },
    "papermill": {
     "duration": 0.262045,
     "end_time": "2025-04-03T16:35:06.073687",
     "exception": false,
     "start_time": "2025-04-03T16:35:05.811642",
     "status": "completed"
    },
    "tags": []
   },
   "outputs": [
    {
     "data": {
      "text/plain": [
       "Podcast_Name                        0\n",
       "Episode_Title                       0\n",
       "Episode_Length_minutes          87093\n",
       "Genre                               0\n",
       "Host_Popularity_percentage          0\n",
       "Publication_Day                     0\n",
       "Publication_Time                    0\n",
       "Guest_Popularity_percentage    146030\n",
       "Number_of_Ads                       1\n",
       "Episode_Sentiment                   0\n",
       "Listening_Time_minutes              0\n",
       "dtype: int64"
      ]
     },
     "execution_count": 7,
     "metadata": {},
     "output_type": "execute_result"
    }
   ],
   "source": [
    "train_df.isnull().sum()"
   ]
  },
  {
   "cell_type": "code",
   "execution_count": 8,
   "id": "bbe3755f",
   "metadata": {
    "execution": {
     "iopub.execute_input": "2025-04-03T16:35:06.084908Z",
     "iopub.status.busy": "2025-04-03T16:35:06.084538Z",
     "iopub.status.idle": "2025-04-03T16:35:06.193948Z",
     "shell.execute_reply": "2025-04-03T16:35:06.192409Z"
    },
    "papermill": {
     "duration": 0.118149,
     "end_time": "2025-04-03T16:35:06.196858",
     "exception": false,
     "start_time": "2025-04-03T16:35:06.078709",
     "status": "completed"
    },
    "tags": []
   },
   "outputs": [
    {
     "data": {
      "text/plain": [
       "Podcast_Name                       0\n",
       "Episode_Title                      0\n",
       "Episode_Length_minutes         28736\n",
       "Genre                              0\n",
       "Host_Popularity_percentage         0\n",
       "Publication_Day                    0\n",
       "Publication_Time                   0\n",
       "Guest_Popularity_percentage    48832\n",
       "Number_of_Ads                      0\n",
       "Episode_Sentiment                  0\n",
       "dtype: int64"
      ]
     },
     "execution_count": 8,
     "metadata": {},
     "output_type": "execute_result"
    }
   ],
   "source": [
    "test_df.isnull().sum()"
   ]
  },
  {
   "cell_type": "code",
   "execution_count": 9,
   "id": "1f63eefa",
   "metadata": {
    "execution": {
     "iopub.execute_input": "2025-04-03T16:35:06.211878Z",
     "iopub.status.busy": "2025-04-03T16:35:06.211413Z",
     "iopub.status.idle": "2025-04-03T16:35:21.925717Z",
     "shell.execute_reply": "2025-04-03T16:35:21.924645Z"
    },
    "papermill": {
     "duration": 15.723393,
     "end_time": "2025-04-03T16:35:21.927878",
     "exception": false,
     "start_time": "2025-04-03T16:35:06.204485",
     "status": "completed"
    },
    "tags": []
   },
   "outputs": [],
   "source": [
    "import tensorflow as tf\n",
    "from tensorflow.keras.layers import Dense\n",
    "from tensorflow.keras.activations import linear, relu\n",
    "from tensorflow.keras.regularizers import L2\n",
    "from tensorflow.keras.models import Sequential\n",
    "\n",
    "model = Sequential(\n",
    "    [\n",
    "        Dense(500, activation=\"relu\", kernel_regularizer = L2(0.01)),\n",
    "        Dense(1000, activation=\"relu\", kernel_regularizer=L2(0.01)),\n",
    "        Dense(1000, activation=\"relu\", kernel_regularizer=L2(0.01)),\n",
    "        Dense(1, activation=\"linear\")\n",
    "    ]\n",
    ")\n",
    "\n",
    "model.compile(\n",
    "    loss = tf.keras.losses.mse,\n",
    "    optimizer = tf.keras.optimizers.Adam(learning_rate=0.001)\n",
    ")"
   ]
  },
  {
   "cell_type": "code",
   "execution_count": 10,
   "id": "d0523518",
   "metadata": {
    "execution": {
     "iopub.execute_input": "2025-04-03T16:35:21.940049Z",
     "iopub.status.busy": "2025-04-03T16:35:21.939248Z",
     "iopub.status.idle": "2025-04-03T16:35:23.780530Z",
     "shell.execute_reply": "2025-04-03T16:35:23.779285Z"
    },
    "papermill": {
     "duration": 1.849746,
     "end_time": "2025-04-03T16:35:23.782871",
     "exception": false,
     "start_time": "2025-04-03T16:35:21.933125",
     "status": "completed"
    },
    "tags": []
   },
   "outputs": [],
   "source": [
    "from sklearn.model_selection import train_test_split\n",
    "\n",
    "\n",
    "train_df.dropna(axis=0, subset=['Listening_Time_minutes'], inplace=True)\n",
    "y = train_df.Listening_Time_minutes\n",
    "train_df.drop(['Listening_Time_minutes'], axis=1, inplace=True)\n",
    "\n",
    "numerical_data = [i for i in train_df.columns if train_df[i].dtype in [\"int64\", \"float64\"]]\n",
    "categorical_data = [i for i in train_df.columns if train_df[i].dtype == \"object\" and train_df[i].nunique() < 10]\n",
    "\n",
    "X = train_df[numerical_data + categorical_data].copy()\n",
    "X_train, X_valid, y_train, y_valid = train_test_split(X,y,train_size=0.8,\n",
    "                                                      test_size = 0.2, random_state=0)\n",
    "X_test = test_df[numerical_data + categorical_data].copy()"
   ]
  },
  {
   "cell_type": "code",
   "execution_count": 11,
   "id": "e9f0171b",
   "metadata": {
    "execution": {
     "iopub.execute_input": "2025-04-03T16:35:23.796425Z",
     "iopub.status.busy": "2025-04-03T16:35:23.795662Z",
     "iopub.status.idle": "2025-04-03T16:35:24.061418Z",
     "shell.execute_reply": "2025-04-03T16:35:24.060394Z"
    },
    "papermill": {
     "duration": 0.275022,
     "end_time": "2025-04-03T16:35:24.063692",
     "exception": false,
     "start_time": "2025-04-03T16:35:23.788670",
     "status": "completed"
    },
    "tags": []
   },
   "outputs": [],
   "source": [
    "from sklearn.compose import ColumnTransformer\n",
    "from sklearn.impute import SimpleImputer\n",
    "from sklearn.pipeline import Pipeline\n",
    "from sklearn.preprocessing import OneHotEncoder\n",
    "from sklearn.metrics import mean_squared_error\n",
    "\n",
    "numerical_transformer = SimpleImputer(strategy=\"median\")\n",
    "categorical_transformer = Pipeline(steps=[\n",
    "    (\"impute\", SimpleImputer(strategy=\"most_frequent\")),\n",
    "    (\"onehot\", OneHotEncoder(handle_unknown=\"ignore\"))\n",
    "])\n",
    "\n",
    "preprocessor = ColumnTransformer(transformers=[\n",
    "    (\"num\", numerical_transformer, numerical_data),\n",
    "    (\"cat\", categorical_transformer, categorical_data)\n",
    "])\n",
    "\n",
    "my_pipeline = Pipeline(steps=[\n",
    "    (\"preprocessor\", preprocessor),\n",
    "    (\"model\", model)\n",
    "])"
   ]
  },
  {
   "cell_type": "code",
   "execution_count": 12,
   "id": "5346037e",
   "metadata": {
    "execution": {
     "iopub.execute_input": "2025-04-03T16:35:24.076547Z",
     "iopub.status.busy": "2025-04-03T16:35:24.076126Z",
     "iopub.status.idle": "2025-04-03T16:44:13.735532Z",
     "shell.execute_reply": "2025-04-03T16:44:13.734376Z"
    },
    "papermill": {
     "duration": 529.668094,
     "end_time": "2025-04-03T16:44:13.737763",
     "exception": false,
     "start_time": "2025-04-03T16:35:24.069669",
     "status": "completed"
    },
    "tags": []
   },
   "outputs": [
    {
     "name": "stdout",
     "output_type": "stream",
     "text": [
      "\u001b[1m23438/23438\u001b[0m \u001b[32m━━━━━━━━━━━━━━━━━━━━\u001b[0m\u001b[37m\u001b[0m \u001b[1m467s\u001b[0m 20ms/step - loss: 190.0401\n",
      "\u001b[1m4688/4688\u001b[0m \u001b[32m━━━━━━━━━━━━━━━━━━━━\u001b[0m\u001b[37m\u001b[0m \u001b[1m22s\u001b[0m 5ms/step\n"
     ]
    }
   ],
   "source": [
    "my_pipeline.fit(X, y)\n",
    "\n",
    "preds = my_pipeline.predict(X_valid)"
   ]
  },
  {
   "cell_type": "code",
   "execution_count": 13,
   "id": "6109cf87",
   "metadata": {
    "execution": {
     "iopub.execute_input": "2025-04-03T16:44:14.743222Z",
     "iopub.status.busy": "2025-04-03T16:44:14.742842Z",
     "iopub.status.idle": "2025-04-03T16:44:54.060195Z",
     "shell.execute_reply": "2025-04-03T16:44:54.059071Z"
    },
    "papermill": {
     "duration": 39.859922,
     "end_time": "2025-04-03T16:44:54.062577",
     "exception": false,
     "start_time": "2025-04-03T16:44:14.202655",
     "status": "completed"
    },
    "tags": []
   },
   "outputs": [
    {
     "name": "stdout",
     "output_type": "stream",
     "text": [
      "\u001b[1m7813/7813\u001b[0m \u001b[32m━━━━━━━━━━━━━━━━━━━━\u001b[0m\u001b[37m\u001b[0m \u001b[1m36s\u001b[0m 5ms/step\n"
     ]
    }
   ],
   "source": [
    "preds = my_pipeline.predict(X_test)"
   ]
  },
  {
   "cell_type": "code",
   "execution_count": 14,
   "id": "9960808d",
   "metadata": {
    "execution": {
     "iopub.execute_input": "2025-04-03T16:44:55.199134Z",
     "iopub.status.busy": "2025-04-03T16:44:55.198714Z",
     "iopub.status.idle": "2025-04-03T16:44:55.205159Z",
     "shell.execute_reply": "2025-04-03T16:44:55.203964Z"
    },
    "papermill": {
     "duration": 0.526089,
     "end_time": "2025-04-03T16:44:55.207406",
     "exception": false,
     "start_time": "2025-04-03T16:44:54.681317",
     "status": "completed"
    },
    "tags": []
   },
   "outputs": [
    {
     "data": {
      "text/plain": [
       "<function ndarray.flatten>"
      ]
     },
     "execution_count": 14,
     "metadata": {},
     "output_type": "execute_result"
    }
   ],
   "source": [
    "preds.flatten\n"
   ]
  },
  {
   "cell_type": "code",
   "execution_count": 15,
   "id": "8ae0c32b",
   "metadata": {
    "execution": {
     "iopub.execute_input": "2025-04-03T16:44:56.369038Z",
     "iopub.status.busy": "2025-04-03T16:44:56.368659Z",
     "iopub.status.idle": "2025-04-03T16:44:56.382433Z",
     "shell.execute_reply": "2025-04-03T16:44:56.381112Z"
    },
    "papermill": {
     "duration": 0.666382,
     "end_time": "2025-04-03T16:44:56.384365",
     "exception": false,
     "start_time": "2025-04-03T16:44:55.717983",
     "status": "completed"
    },
    "tags": []
   },
   "outputs": [
    {
     "data": {
      "text/html": [
       "<div>\n",
       "<style scoped>\n",
       "    .dataframe tbody tr th:only-of-type {\n",
       "        vertical-align: middle;\n",
       "    }\n",
       "\n",
       "    .dataframe tbody tr th {\n",
       "        vertical-align: top;\n",
       "    }\n",
       "\n",
       "    .dataframe thead th {\n",
       "        text-align: right;\n",
       "    }\n",
       "</style>\n",
       "<table border=\"1\" class=\"dataframe\">\n",
       "  <thead>\n",
       "    <tr style=\"text-align: right;\">\n",
       "      <th></th>\n",
       "      <th>id</th>\n",
       "      <th>Listening_Time_minutes</th>\n",
       "    </tr>\n",
       "  </thead>\n",
       "  <tbody>\n",
       "    <tr>\n",
       "      <th>0</th>\n",
       "      <td>750000</td>\n",
       "      <td>53.964993</td>\n",
       "    </tr>\n",
       "    <tr>\n",
       "      <th>1</th>\n",
       "      <td>750001</td>\n",
       "      <td>17.388163</td>\n",
       "    </tr>\n",
       "    <tr>\n",
       "      <th>2</th>\n",
       "      <td>750002</td>\n",
       "      <td>48.628448</td>\n",
       "    </tr>\n",
       "    <tr>\n",
       "      <th>3</th>\n",
       "      <td>750003</td>\n",
       "      <td>79.731026</td>\n",
       "    </tr>\n",
       "    <tr>\n",
       "      <th>4</th>\n",
       "      <td>750004</td>\n",
       "      <td>49.219902</td>\n",
       "    </tr>\n",
       "    <tr>\n",
       "      <th>...</th>\n",
       "      <td>...</td>\n",
       "      <td>...</td>\n",
       "    </tr>\n",
       "    <tr>\n",
       "      <th>249995</th>\n",
       "      <td>999995</td>\n",
       "      <td>9.929546</td>\n",
       "    </tr>\n",
       "    <tr>\n",
       "      <th>249996</th>\n",
       "      <td>999996</td>\n",
       "      <td>57.871349</td>\n",
       "    </tr>\n",
       "    <tr>\n",
       "      <th>249997</th>\n",
       "      <td>999997</td>\n",
       "      <td>5.284143</td>\n",
       "    </tr>\n",
       "    <tr>\n",
       "      <th>249998</th>\n",
       "      <td>999998</td>\n",
       "      <td>74.480614</td>\n",
       "    </tr>\n",
       "    <tr>\n",
       "      <th>249999</th>\n",
       "      <td>999999</td>\n",
       "      <td>56.098640</td>\n",
       "    </tr>\n",
       "  </tbody>\n",
       "</table>\n",
       "<p>250000 rows × 2 columns</p>\n",
       "</div>"
      ],
      "text/plain": [
       "            id  Listening_Time_minutes\n",
       "0       750000               53.964993\n",
       "1       750001               17.388163\n",
       "2       750002               48.628448\n",
       "3       750003               79.731026\n",
       "4       750004               49.219902\n",
       "...        ...                     ...\n",
       "249995  999995                9.929546\n",
       "249996  999996               57.871349\n",
       "249997  999997                5.284143\n",
       "249998  999998               74.480614\n",
       "249999  999999               56.098640\n",
       "\n",
       "[250000 rows x 2 columns]"
      ]
     },
     "execution_count": 15,
     "metadata": {},
     "output_type": "execute_result"
    }
   ],
   "source": [
    "output = pd.DataFrame({\"id\":X_test.index, \"Listening_Time_minutes\":preds[:,0]})\n",
    "output"
   ]
  },
  {
   "cell_type": "code",
   "execution_count": 16,
   "id": "98b84f75",
   "metadata": {
    "execution": {
     "iopub.execute_input": "2025-04-03T16:44:57.413275Z",
     "iopub.status.busy": "2025-04-03T16:44:57.412878Z",
     "iopub.status.idle": "2025-04-03T16:44:57.792488Z",
     "shell.execute_reply": "2025-04-03T16:44:57.791273Z"
    },
    "papermill": {
     "duration": 0.895006,
     "end_time": "2025-04-03T16:44:57.794577",
     "exception": false,
     "start_time": "2025-04-03T16:44:56.899571",
     "status": "completed"
    },
    "tags": []
   },
   "outputs": [],
   "source": [
    "output.to_csv(\"submission.csv\", index=False)"
   ]
  },
  {
   "cell_type": "code",
   "execution_count": null,
   "id": "bd91af03",
   "metadata": {
    "papermill": {
     "duration": 0.513287,
     "end_time": "2025-04-03T16:44:58.887054",
     "exception": false,
     "start_time": "2025-04-03T16:44:58.373767",
     "status": "completed"
    },
    "tags": []
   },
   "outputs": [],
   "source": []
  }
 ],
 "metadata": {
  "kaggle": {
   "accelerator": "none",
   "dataSources": [
    {
     "databundleVersionId": 11351736,
     "sourceId": 91715,
     "sourceType": "competition"
    }
   ],
   "dockerImageVersionId": 30918,
   "isGpuEnabled": false,
   "isInternetEnabled": true,
   "language": "python",
   "sourceType": "notebook"
  },
  "kernelspec": {
   "display_name": "Python 3",
   "language": "python",
   "name": "python3"
  },
  "language_info": {
   "codemirror_mode": {
    "name": "ipython",
    "version": 3
   },
   "file_extension": ".py",
   "mimetype": "text/x-python",
   "name": "python",
   "nbconvert_exporter": "python",
   "pygments_lexer": "ipython3",
   "version": "3.10.12"
  },
  "papermill": {
   "default_parameters": {},
   "duration": 603.563714,
   "end_time": "2025-04-03T16:45:02.213449",
   "environment_variables": {},
   "exception": null,
   "input_path": "__notebook__.ipynb",
   "output_path": "__notebook__.ipynb",
   "parameters": {},
   "start_time": "2025-04-03T16:34:58.649735",
   "version": "2.6.0"
  }
 },
 "nbformat": 4,
 "nbformat_minor": 5
}
